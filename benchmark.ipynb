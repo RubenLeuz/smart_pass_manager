{
 "cells": [
  {
   "cell_type": "markdown",
   "id": "3224e003",
   "metadata": {},
   "source": [
    "# Testing of smart_transpile"
   ]
  },
  {
   "cell_type": "markdown",
   "id": "0fe0267f",
   "metadata": {},
   "source": [
    "In this Notebook, the smart_transpile function will be tested on effectiveness on a small number of random quantum circuits. "
   ]
  },
  {
   "cell_type": "markdown",
   "id": "952b5ab5",
   "metadata": {},
   "source": [
    "## Step 1: Create Quantum Circuits"
   ]
  },
  {
   "cell_type": "markdown",
   "id": "ffe150ff",
   "metadata": {},
   "source": [
    "For qubit counts {4, 8, 12, 16, 20, 24}, build each 12 random quantum circuits, wich are diveded eaqualy into three categories of different depth levels {20, 50, 80}. So that leaves us with 72 quantum circuits in total."
   ]
  },
  {
   "cell_type": "code",
   "execution_count": 1,
   "id": "7387a96b",
   "metadata": {},
   "outputs": [
    {
     "name": "stdout",
     "output_type": "stream",
     "text": [
      "48\n"
     ]
    }
   ],
   "source": [
    "from qiskit.circuit.random import random_circuit\n",
    "\n",
    "qubit_counts = [2,4, 6, 8, 10, 12, 14, 16]\n",
    "depths       = [10,20]\n",
    "per_depth    = 3\n",
    "\n",
    "q_circuits = []\n",
    "\n",
    "for qubits in qubit_counts:\n",
    "    for depth in depths:\n",
    "        for i in range(per_depth):\n",
    "            qc = random_circuit(qubits, depth, measure=False, seed=(i+depth + qubits))\n",
    "            q_circuits.append((qubits, depth, qc))\n",
    "\n",
    "print(len(q_circuits))\n"
   ]
  },
  {
   "cell_type": "markdown",
   "id": "2c4947ad",
   "metadata": {},
   "source": [
    "## Step 2: Transpilation"
   ]
  },
  {
   "cell_type": "markdown",
   "id": "fcaff447",
   "metadata": {},
   "source": [
    "First we'll chose three different IBM Backends we want to test the smart_transpile on. This will be ibm_marrakesh (156 Qubits), ibm_sherbrooke and ibm_brisbane (127 Qubits each) or to be more precice thei respective fake backend (Simulations). Then for each backend we'll create two arrays, one with the smmart_transpiled circuits and one with usual pass_manager provided by qiskit."
   ]
  },
  {
   "cell_type": "code",
   "execution_count": 2,
   "id": "d56d5ff4",
   "metadata": {},
   "outputs": [],
   "source": [
    "from qiskit_ibm_runtime.fake_provider import FakeMarrakesh, FakeSherbrooke, FakeBrisbane\n",
    "backends = {\n",
    "    \"marrakesh\": FakeMarrakesh(),     # 156 qubits\n",
    "    \"sherbrooke\": FakeSherbrooke(), # 127 qubits\n",
    "    \"brisbane\": FakeBrisbane()      # 127 qubits\n",
    "}\n"
   ]
  },
  {
   "cell_type": "markdown",
   "id": "d8abc4f6",
   "metadata": {},
   "source": [
    "Before we transpile we mirror all the Circuits - this will give us a way to measure error effectiveness of the smart_transpile function."
   ]
  },
  {
   "cell_type": "code",
   "execution_count": 3,
   "id": "73160963",
   "metadata": {},
   "outputs": [],
   "source": [
    "from qiskit import QuantumCircuit, ClassicalRegister\n",
    "\n",
    "def add_measurements_only_on_active_qubits(qc):\n",
    "    active_qubits = set()\n",
    "    for instr, qargs, _ in qc.data:\n",
    "        for q in qargs:\n",
    "            active_qubits.add(qc.qubits.index(q))\n",
    "    active_qubits = sorted(active_qubits)\n",
    "\n",
    "    creg = ClassicalRegister(len(active_qubits))\n",
    "    qc.add_register(creg)\n",
    "\n",
    "    for i, qubit_idx in enumerate(active_qubits):\n",
    "        qc.measure(qc.qubits[qubit_idx], creg[i])\n",
    "\n",
    "    return qc"
   ]
  },
  {
   "cell_type": "code",
   "execution_count": 4,
   "id": "7198913f",
   "metadata": {},
   "outputs": [],
   "source": [
    "def mirror_circuit(qc):\n",
    "    num_qubits = qc.num_qubits\n",
    "\n",
    "    qc_no_meas = QuantumCircuit(num_qubits)\n",
    "    for instruction in qc.data:\n",
    "        if instruction.operation.name != \"measure\":\n",
    "            qc_no_meas.append(instruction.operation, instruction.qubits, instruction.clbits)\n",
    "\n",
    "    qc_inverse = qc_no_meas.inverse()\n",
    "\n",
    "    qc_mirrored = qc_no_meas.copy()\n",
    "    qc_mirrored.barrier()\n",
    "    qc_mirrored.compose(qc_inverse, inplace=True)\n",
    "\n",
    "    qc_mirrored = add_measurements_only_on_active_qubits(qc_mirrored)\n",
    "\n",
    "    return qc_mirrored"
   ]
  },
  {
   "cell_type": "code",
   "execution_count": 5,
   "id": "9644b2af",
   "metadata": {},
   "outputs": [
    {
     "name": "stderr",
     "output_type": "stream",
     "text": [
      "C:\\Users\\Ruben\\AppData\\Local\\Temp\\ipykernel_5812\\277245032.py:5: DeprecationWarning: Treating CircuitInstruction as an iterable is deprecated legacy behavior since Qiskit 1.2, and will be removed in Qiskit 3.0. Instead, use the `operation`, `qubits` and `clbits` named attributes.\n",
      "  for instr, qargs, _ in qc.data:\n"
     ]
    }
   ],
   "source": [
    "# Mirror logical circuits BEFORE transpiling\n",
    "mirrored_circuits = []\n",
    "for (n, d, qc) in q_circuits:\n",
    "    qc_mirrored = mirror_circuit(qc)\n",
    "    mirrored_circuits.append((n, d, qc_mirrored))\n"
   ]
  },
  {
   "cell_type": "markdown",
   "id": "d4551eaf",
   "metadata": {},
   "source": [
    "Now we can transpile - this can take a while.\n"
   ]
  },
  {
   "cell_type": "code",
   "execution_count": null,
   "id": "1e1f3c22",
   "metadata": {},
   "outputs": [
    {
     "name": "stdout",
     "output_type": "stream",
     "text": [
      "Percentage:  0.006944444444444444\n",
      "Percentage:  0.013888888888888888\n",
      "Percentage:  0.020833333333333332\n",
      "Percentage:  0.027777777777777776\n",
      "Percentage:  0.034722222222222224\n",
      "Percentage:  0.041666666666666664\n",
      "Percentage:  0.04861111111111111\n",
      "Percentage:  0.05555555555555555\n",
      "Percentage:  0.0625\n",
      "Percentage:  0.06944444444444445\n",
      "Percentage:  0.0763888888888889\n",
      "Percentage:  0.08333333333333333\n",
      "Percentage:  0.09027777777777778\n",
      "Percentage:  0.09722222222222222\n",
      "Percentage:  0.10416666666666667\n",
      "Percentage:  0.1111111111111111\n",
      "Percentage:  0.11805555555555555\n",
      "Percentage:  0.125\n",
      "Percentage:  0.13194444444444445\n",
      "Percentage:  0.1388888888888889\n",
      "Percentage:  0.14583333333333334\n",
      "Percentage:  0.1527777777777778\n",
      "Percentage:  0.1597222222222222\n",
      "Percentage:  0.16666666666666666\n",
      "Percentage:  0.1736111111111111\n",
      "Percentage:  0.18055555555555555\n",
      "Percentage:  0.1875\n",
      "Percentage:  0.19444444444444445\n",
      "Percentage:  0.2013888888888889\n",
      "Percentage:  0.20833333333333334\n",
      "Percentage:  0.2152777777777778\n",
      "Percentage:  0.2222222222222222\n",
      "Percentage:  0.22916666666666666\n",
      "Percentage:  0.2361111111111111\n",
      "Percentage:  0.24305555555555555\n",
      "Percentage:  0.25\n",
      "Percentage:  0.2569444444444444\n",
      "Percentage:  0.2638888888888889\n",
      "Percentage:  0.2708333333333333\n",
      "Percentage:  0.2777777777777778\n",
      "Percentage:  0.2847222222222222\n",
      "Percentage:  0.2916666666666667\n",
      "Percentage:  0.2986111111111111\n",
      "Percentage:  0.3055555555555556\n",
      "Percentage:  0.3125\n",
      "Percentage:  0.3194444444444444\n",
      "Percentage:  0.3263888888888889\n",
      "Percentage:  0.3333333333333333\n",
      "Percentage:  0.3402777777777778\n",
      "Percentage:  0.3472222222222222\n",
      "Percentage:  0.3541666666666667\n",
      "Percentage:  0.3611111111111111\n",
      "Percentage:  0.3680555555555556\n",
      "Percentage:  0.375\n",
      "Percentage:  0.3819444444444444\n",
      "Percentage:  0.3888888888888889\n",
      "Percentage:  0.3958333333333333\n",
      "Percentage:  0.4027777777777778\n",
      "Percentage:  0.4097222222222222\n",
      "Percentage:  0.4166666666666667\n",
      "Percentage:  0.4236111111111111\n",
      "Percentage:  0.4305555555555556\n",
      "Percentage:  0.4375\n",
      "Percentage:  0.4444444444444444\n",
      "Percentage:  0.4513888888888889\n",
      "Percentage:  0.4583333333333333\n",
      "Percentage:  0.4652777777777778\n",
      "Percentage:  0.4722222222222222\n",
      "Percentage:  0.4791666666666667\n",
      "Percentage:  0.4861111111111111\n",
      "Percentage:  0.4930555555555556\n",
      "Percentage:  0.5\n",
      "Percentage:  0.5069444444444444\n",
      "Percentage:  0.5138888888888888\n",
      "Percentage:  0.5208333333333334\n",
      "Percentage:  0.5277777777777778\n",
      "Percentage:  0.5347222222222222\n",
      "Percentage:  0.5416666666666666\n",
      "Percentage:  0.5486111111111112\n"
     ]
    }
   ],
   "source": [
    "from qiskit import transpile\n",
    "from smart_pass_manager import smart_transpile\n",
    "\n",
    "default_circuits = {}\n",
    "smart_circuits   = {}\n",
    "count = 0\n",
    "for name, fake_backend in backends.items():\n",
    "    defaults = []\n",
    "    smarts   = []\n",
    "    for (n, d, qc_mirrored) in mirrored_circuits:\n",
    "        # Default transpile\n",
    "        qc_def = transpile(qc_mirrored, backend=fake_backend, optimization_level=3)\n",
    "        defaults.append((n, d, qc_def))\n",
    "\n",
    "        # Smart transpile\n",
    "        qc_smart = smart_transpile(qc_mirrored, backend=fake_backend, optimization_level=3, seed=0)\n",
    "        smarts.append((n, d, qc_smart))\n",
    "\n",
    "        count += 2\n",
    "        print(\"Percentage: \", count / (2 * len(mirrored_circuits) * len(backends)))\n",
    "\n",
    "    default_circuits[name] = defaults\n",
    "    smart_circuits[name]   = smarts\n",
    "\n",
    "    # This took me 47min to run"
   ]
  },
  {
   "cell_type": "markdown",
   "id": "bda5a13d",
   "metadata": {},
   "source": [
    "## Step 3: Run on simulated backend"
   ]
  },
  {
   "cell_type": "markdown",
   "id": "ac9a05e4",
   "metadata": {},
   "source": [
    "We prepare the simulators with the right noise model."
   ]
  },
  {
   "cell_type": "code",
   "execution_count": null,
   "id": "62701a47",
   "metadata": {},
   "outputs": [],
   "source": [
    "from qiskit_aer import AerSimulator\n",
    "from qiskit_aer.noise import NoiseModel\n",
    "\n",
    "\n",
    "simulators = {}\n",
    "\n",
    "for name, fake_backend in backends.items():\n",
    "    \n",
    "    noise_model = NoiseModel.from_backend(fake_backend)\n",
    "    \n",
    "    simulator = AerSimulator(noise_model=noise_model)\n",
    "    \n",
    "    simulators[name] = simulator\n"
   ]
  },
  {
   "cell_type": "markdown",
   "id": "d5fc28cb",
   "metadata": {},
   "source": [
    "To reduce computation time, while still maintaining meaningful results we choose the number of shots depending on number of qubits in circuit."
   ]
  },
  {
   "cell_type": "code",
   "execution_count": null,
   "id": "9644e8f2",
   "metadata": {},
   "outputs": [],
   "source": [
    "def determine_shots(num_qubits):\n",
    "    if num_qubits <= 8:\n",
    "        return 5000\n",
    "    elif num_qubits <= 16:\n",
    "        return 2000\n",
    "    else:\n",
    "        return 1000"
   ]
  },
  {
   "cell_type": "markdown",
   "id": "fc3d192b",
   "metadata": {},
   "source": [
    "Reduce Circuits to active Qubits only"
   ]
  },
  {
   "cell_type": "code",
   "execution_count": null,
   "id": "70ebcb0a",
   "metadata": {},
   "outputs": [],
   "source": [
    "from qiskit import QuantumCircuit, QuantumRegister, ClassicalRegister\n",
    "\n",
    "def reduce_to_active_qubits(qc):\n",
    "    \"\"\"Rebuild a QuantumCircuit to only include active qubits and classical bits.\"\"\"\n",
    "    active_qubits = set()\n",
    "    for instr, qargs, _ in qc.data:\n",
    "        for q in qargs:\n",
    "            active_qubits.add(qc.qubits.index(q))\n",
    "    active_qubits = sorted(active_qubits)\n",
    "    \n",
    "    old_to_new = {old_idx: new_idx for new_idx, old_idx in enumerate(active_qubits)}\n",
    "    qr = QuantumRegister(len(active_qubits), \"q\")\n",
    "    cr = ClassicalRegister(len(active_qubits), \"c\")\n",
    "    new_qc = QuantumCircuit(qr, cr)\n",
    "    \n",
    "    for instr, qargs, cargs in qc.data:\n",
    "        new_qargs = [qr[old_to_new[qc.qubits.index(q)]] for q in qargs]\n",
    "        if instr.name == \"measure\":\n",
    "            new_cargs = []\n",
    "            for q in qargs:\n",
    "                qubit_idx = qc.qubits.index(q)\n",
    "                clbit_idx = old_to_new[qubit_idx]\n",
    "                new_cargs.append(cr[clbit_idx])\n",
    "        else:\n",
    "            new_cargs = []\n",
    "        new_qc.append(instr.copy(), new_qargs, new_cargs)\n",
    "    \n",
    "    new_qc.global_phase = qc.global_phase\n",
    "    new_qc.name = qc.name\n",
    "\n",
    "    return new_qc"
   ]
  },
  {
   "cell_type": "markdown",
   "id": "3b64ccaf",
   "metadata": {},
   "source": [
    "Define the results and run all the simulations\n"
   ]
  },
  {
   "cell_type": "code",
   "execution_count": null,
   "id": "41891dba",
   "metadata": {},
   "outputs": [
    {
     "name": "stderr",
     "output_type": "stream",
     "text": [
      "C:\\Users\\Ruben\\AppData\\Local\\Temp\\ipykernel_9792\\2923525979.py:6: DeprecationWarning: Treating CircuitInstruction as an iterable is deprecated legacy behavior since Qiskit 1.2, and will be removed in Qiskit 3.0. Instead, use the `operation`, `qubits` and `clbits` named attributes.\n",
      "  for instr, qargs, _ in qc.data:\n",
      "C:\\Users\\Ruben\\AppData\\Local\\Temp\\ipykernel_9792\\2923525979.py:16: DeprecationWarning: Treating CircuitInstruction as an iterable is deprecated legacy behavior since Qiskit 1.2, and will be removed in Qiskit 3.0. Instead, use the `operation`, `qubits` and `clbits` named attributes.\n",
      "  for instr, qargs, cargs in qc.data:\n"
     ]
    },
    {
     "name": "stdout",
     "output_type": "stream",
     "text": [
      "Percentage:  0.003472222222222222\n",
      "Percentage:  0.006944444444444444\n",
      "Percentage:  0.010416666666666666\n",
      "Percentage:  0.013888888888888888\n",
      "Percentage:  0.017361111111111112\n",
      "Percentage:  0.020833333333333332\n",
      "Percentage:  0.024305555555555556\n",
      "Percentage:  0.027777777777777776\n",
      "Percentage:  0.03125\n",
      "Percentage:  0.034722222222222224\n",
      "Percentage:  0.03819444444444445\n",
      "Percentage:  0.041666666666666664\n",
      "Percentage:  0.04513888888888889\n",
      "Percentage:  0.04861111111111111\n",
      "Percentage:  0.052083333333333336\n",
      "Percentage:  0.05555555555555555\n",
      "Percentage:  0.059027777777777776\n",
      "Percentage:  0.0625\n",
      "Percentage:  0.06597222222222222\n",
      "Percentage:  0.06944444444444445\n",
      "Percentage:  0.07291666666666667\n",
      "Percentage:  0.0763888888888889\n",
      "Percentage:  0.0798611111111111\n",
      "Percentage:  0.08333333333333333\n",
      "Percentage:  0.08680555555555555\n",
      "Percentage:  0.09027777777777778\n",
      "Percentage:  0.09375\n",
      "Percentage:  0.09722222222222222\n",
      "Percentage:  0.10069444444444445\n",
      "Percentage:  0.10416666666666667\n",
      "Percentage:  0.1076388888888889\n",
      "Percentage:  0.1111111111111111\n",
      "Percentage:  0.11458333333333333\n",
      "Percentage:  0.11805555555555555\n",
      "Percentage:  0.12152777777777778\n",
      "Percentage:  0.125\n",
      "Percentage:  0.1284722222222222\n",
      "Percentage:  0.13194444444444445\n",
      "Percentage:  0.13541666666666666\n",
      "Percentage:  0.1388888888888889\n",
      "Percentage:  0.1423611111111111\n",
      "Percentage:  0.14583333333333334\n",
      "Percentage:  0.14930555555555555\n",
      "Percentage:  0.1527777777777778\n",
      "Percentage:  0.15625\n",
      "Percentage:  0.1597222222222222\n",
      "Percentage:  0.16319444444444445\n",
      "Percentage:  0.16666666666666666\n",
      "Percentage:  0.1701388888888889\n",
      "Percentage:  0.1736111111111111\n",
      "Percentage:  0.17708333333333334\n",
      "Percentage:  0.18055555555555555\n",
      "Percentage:  0.1840277777777778\n",
      "Percentage:  0.1875\n",
      "Percentage:  0.1909722222222222\n",
      "Percentage:  0.19444444444444445\n",
      "Percentage:  0.19791666666666666\n",
      "Percentage:  0.2013888888888889\n",
      "Percentage:  0.2048611111111111\n",
      "Percentage:  0.20833333333333334\n",
      "Percentage:  0.21180555555555555\n",
      "Percentage:  0.2152777777777778\n",
      "Percentage:  0.21875\n",
      "Percentage:  0.2222222222222222\n",
      "Percentage:  0.22569444444444445\n",
      "Percentage:  0.22916666666666666\n",
      "Percentage:  0.2326388888888889\n",
      "Percentage:  0.2361111111111111\n",
      "Percentage:  0.23958333333333334\n",
      "Percentage:  0.24305555555555555\n",
      "Percentage:  0.2465277777777778\n",
      "Percentage:  0.25\n",
      "Percentage:  0.2534722222222222\n",
      "Percentage:  0.2569444444444444\n",
      "Percentage:  0.2604166666666667\n",
      "Percentage:  0.2638888888888889\n",
      "Percentage:  0.2673611111111111\n",
      "Percentage:  0.2708333333333333\n",
      "Percentage:  0.2743055555555556\n",
      "Percentage:  0.2777777777777778\n",
      "Percentage:  0.28125\n",
      "Percentage:  0.2847222222222222\n",
      "Percentage:  0.2881944444444444\n",
      "Percentage:  0.2916666666666667\n",
      "Percentage:  0.2951388888888889\n",
      "Percentage:  0.2986111111111111\n",
      "Percentage:  0.3020833333333333\n",
      "Percentage:  0.3055555555555556\n",
      "Percentage:  0.3090277777777778\n",
      "Percentage:  0.3125\n",
      "Percentage:  0.3159722222222222\n",
      "Percentage:  0.3194444444444444\n",
      "Percentage:  0.3229166666666667\n",
      "Percentage:  0.3263888888888889\n",
      "Percentage:  0.3298611111111111\n",
      "Percentage:  0.3333333333333333\n",
      "Percentage:  0.3368055555555556\n",
      "Percentage:  0.3402777777777778\n",
      "Percentage:  0.34375\n",
      "Percentage:  0.3472222222222222\n",
      "Percentage:  0.3506944444444444\n",
      "Percentage:  0.3541666666666667\n",
      "Percentage:  0.3576388888888889\n",
      "Percentage:  0.3611111111111111\n",
      "Percentage:  0.3645833333333333\n",
      "Percentage:  0.3680555555555556\n",
      "Percentage:  0.3715277777777778\n",
      "Percentage:  0.375\n",
      "Percentage:  0.3784722222222222\n",
      "Percentage:  0.3819444444444444\n",
      "Percentage:  0.3854166666666667\n",
      "Percentage:  0.3888888888888889\n",
      "Percentage:  0.3923611111111111\n",
      "Percentage:  0.3958333333333333\n",
      "Percentage:  0.3993055555555556\n",
      "Percentage:  0.4027777777777778\n",
      "Percentage:  0.40625\n",
      "Percentage:  0.4097222222222222\n",
      "Percentage:  0.4131944444444444\n",
      "Percentage:  0.4166666666666667\n",
      "Percentage:  0.4201388888888889\n",
      "Percentage:  0.4236111111111111\n",
      "Percentage:  0.4270833333333333\n",
      "Percentage:  0.4305555555555556\n",
      "Percentage:  0.4340277777777778\n",
      "Percentage:  0.4375\n",
      "Percentage:  0.4409722222222222\n",
      "Percentage:  0.4444444444444444\n",
      "Percentage:  0.4479166666666667\n",
      "Percentage:  0.4513888888888889\n",
      "Percentage:  0.4548611111111111\n",
      "Percentage:  0.4583333333333333\n",
      "Percentage:  0.4618055555555556\n",
      "Percentage:  0.4652777777777778\n",
      "Percentage:  0.46875\n",
      "Percentage:  0.4722222222222222\n",
      "Percentage:  0.4756944444444444\n",
      "Percentage:  0.4791666666666667\n",
      "Percentage:  0.4826388888888889\n",
      "Percentage:  0.4861111111111111\n",
      "Percentage:  0.4895833333333333\n",
      "Percentage:  0.4930555555555556\n",
      "Percentage:  0.4965277777777778\n",
      "Percentage:  0.5\n",
      "Percentage:  0.5034722222222222\n",
      "Percentage:  0.5069444444444444\n",
      "Percentage:  0.5104166666666666\n",
      "Percentage:  0.5138888888888888\n",
      "Percentage:  0.5173611111111112\n",
      "Percentage:  0.5208333333333334\n",
      "Percentage:  0.5243055555555556\n",
      "Percentage:  0.5277777777777778\n",
      "Percentage:  0.53125\n",
      "Percentage:  0.5347222222222222\n",
      "Percentage:  0.5381944444444444\n",
      "Percentage:  0.5416666666666666\n",
      "Percentage:  0.5451388888888888\n",
      "Percentage:  0.5486111111111112\n",
      "Percentage:  0.5520833333333334\n",
      "Percentage:  0.5555555555555556\n",
      "Percentage:  0.5590277777777778\n",
      "Percentage:  0.5625\n",
      "Percentage:  0.5659722222222222\n",
      "Percentage:  0.5694444444444444\n",
      "Percentage:  0.5729166666666666\n",
      "Percentage:  0.5763888888888888\n",
      "Percentage:  0.5798611111111112\n",
      "Percentage:  0.5833333333333334\n",
      "Percentage:  0.5868055555555556\n",
      "Percentage:  0.5902777777777778\n",
      "Percentage:  0.59375\n",
      "Percentage:  0.5972222222222222\n",
      "Percentage:  0.6006944444444444\n",
      "Percentage:  0.6041666666666666\n",
      "Percentage:  0.6076388888888888\n",
      "Percentage:  0.6111111111111112\n",
      "Percentage:  0.6145833333333334\n",
      "Percentage:  0.6180555555555556\n",
      "Percentage:  0.6215277777777778\n",
      "Percentage:  0.625\n",
      "Percentage:  0.6284722222222222\n",
      "Percentage:  0.6319444444444444\n",
      "Percentage:  0.6354166666666666\n",
      "Percentage:  0.6388888888888888\n",
      "Percentage:  0.6423611111111112\n",
      "Percentage:  0.6458333333333334\n",
      "Percentage:  0.6493055555555556\n",
      "Percentage:  0.6527777777777778\n",
      "Percentage:  0.65625\n",
      "Percentage:  0.6597222222222222\n",
      "Percentage:  0.6631944444444444\n",
      "Percentage:  0.6666666666666666\n",
      "Percentage:  0.6701388888888888\n",
      "Percentage:  0.6736111111111112\n",
      "Percentage:  0.6770833333333334\n",
      "Percentage:  0.6805555555555556\n",
      "Percentage:  0.6840277777777778\n",
      "Percentage:  0.6875\n",
      "Percentage:  0.6909722222222222\n",
      "Percentage:  0.6944444444444444\n",
      "Percentage:  0.6979166666666666\n",
      "Percentage:  0.7013888888888888\n",
      "Percentage:  0.7048611111111112\n",
      "Percentage:  0.7083333333333334\n",
      "Percentage:  0.7118055555555556\n",
      "Percentage:  0.7152777777777778\n",
      "Percentage:  0.71875\n",
      "Percentage:  0.7222222222222222\n",
      "Percentage:  0.7256944444444444\n",
      "Percentage:  0.7291666666666666\n",
      "Percentage:  0.7326388888888888\n",
      "Percentage:  0.7361111111111112\n",
      "Percentage:  0.7395833333333334\n",
      "Percentage:  0.7430555555555556\n",
      "Percentage:  0.7465277777777778\n",
      "Percentage:  0.75\n",
      "Percentage:  0.7534722222222222\n",
      "Percentage:  0.7569444444444444\n",
      "Percentage:  0.7604166666666666\n",
      "Percentage:  0.7638888888888888\n",
      "Percentage:  0.7673611111111112\n",
      "Percentage:  0.7708333333333334\n",
      "Percentage:  0.7743055555555556\n",
      "Percentage:  0.7777777777777778\n",
      "Percentage:  0.78125\n",
      "Percentage:  0.7847222222222222\n",
      "Percentage:  0.7881944444444444\n",
      "Percentage:  0.7916666666666666\n",
      "Percentage:  0.7951388888888888\n",
      "Percentage:  0.7986111111111112\n",
      "Percentage:  0.8020833333333334\n",
      "Percentage:  0.8055555555555556\n",
      "Percentage:  0.8090277777777778\n",
      "Percentage:  0.8125\n",
      "Percentage:  0.8159722222222222\n",
      "Percentage:  0.8194444444444444\n",
      "Percentage:  0.8229166666666666\n",
      "Percentage:  0.8263888888888888\n",
      "Percentage:  0.8298611111111112\n",
      "Percentage:  0.8333333333333334\n",
      "Percentage:  0.8368055555555556\n",
      "Percentage:  0.8402777777777778\n",
      "Percentage:  0.84375\n",
      "Percentage:  0.8472222222222222\n",
      "Percentage:  0.8506944444444444\n",
      "Percentage:  0.8541666666666666\n",
      "Percentage:  0.8576388888888888\n",
      "Percentage:  0.8611111111111112\n",
      "Percentage:  0.8645833333333334\n",
      "Percentage:  0.8680555555555556\n",
      "Percentage:  0.8715277777777778\n",
      "Percentage:  0.875\n",
      "Percentage:  0.8784722222222222\n",
      "Percentage:  0.8819444444444444\n",
      "Percentage:  0.8854166666666666\n",
      "Percentage:  0.8888888888888888\n",
      "Percentage:  0.8923611111111112\n",
      "Percentage:  0.8958333333333334\n",
      "Percentage:  0.8993055555555556\n",
      "Percentage:  0.9027777777777778\n",
      "Percentage:  0.90625\n",
      "Percentage:  0.9097222222222222\n",
      "Percentage:  0.9131944444444444\n",
      "Percentage:  0.9166666666666666\n",
      "Percentage:  0.9201388888888888\n",
      "Percentage:  0.9236111111111112\n",
      "Percentage:  0.9270833333333334\n",
      "Percentage:  0.9305555555555556\n",
      "Percentage:  0.9340277777777778\n",
      "Percentage:  0.9375\n",
      "Percentage:  0.9409722222222222\n",
      "Percentage:  0.9444444444444444\n",
      "Percentage:  0.9479166666666666\n",
      "Percentage:  0.9513888888888888\n",
      "Percentage:  0.9548611111111112\n",
      "Percentage:  0.9583333333333334\n",
      "Percentage:  0.9618055555555556\n",
      "Percentage:  0.9652777777777778\n",
      "Percentage:  0.96875\n",
      "Percentage:  0.9722222222222222\n",
      "Percentage:  0.9756944444444444\n",
      "Percentage:  0.9791666666666666\n",
      "Percentage:  0.9826388888888888\n",
      "Percentage:  0.9861111111111112\n",
      "Percentage:  0.9895833333333334\n",
      "Percentage:  0.9930555555555556\n",
      "Percentage:  0.9965277777777778\n",
      "Percentage:  1.0\n"
     ]
    }
   ],
   "source": [
    "results_default = {}\n",
    "results_smart = {}\n",
    "counter = 0\n",
    "\n",
    "for backend_name in backends.keys():\n",
    "    simulator = simulators[backend_name]\n",
    "    \n",
    "    circuits_def = default_circuits[backend_name]\n",
    "    circuits_smart = smart_circuits[backend_name]\n",
    "\n",
    "    success_rates_def = []\n",
    "    success_rates_smart = []\n",
    "\n",
    "    # Run default circuits\n",
    "    for n, d, qc_mirrored in circuits_def:\n",
    "        shots = determine_shots(n)\n",
    "    \t\n",
    "        qc_mirrored_reduced = reduce_to_active_qubits(qc_mirrored)\n",
    "\n",
    "        transpiled = transpile(qc_mirrored_reduced, simulator, optimization_level=0)\n",
    "        job = simulator.run(transpiled, shots=shots)\n",
    "        result = job.result()\n",
    "\n",
    "        counts = result.get_counts()\n",
    "        zero_string = '0' * n\n",
    "        success = counts.get(zero_string, 0) / shots\n",
    "        success_rates_def.append(success)\n",
    "\n",
    "        counter += 1\n",
    "        print(\"Percentage: \", counter / (2 * len(mirrored_circuits) * len(backends)))\n",
    "\n",
    "    # Run smart circuits\n",
    "    for n, d, qc_mirrored in circuits_smart:\n",
    "        shots = determine_shots(n)\n",
    "\n",
    "        qc_mirrored_reduced = reduce_to_active_qubits(qc_mirrored)\n",
    "\n",
    "        transpiled = transpile(qc_mirrored_reduced, simulator, optimization_level=0)\n",
    "        job = simulator.run(transpiled, shots=shots)\n",
    "        result = job.result()\n",
    "\n",
    "        counts = result.get_counts()\n",
    "        zero_string = '0' * n\n",
    "        success = counts.get(zero_string, 0) / shots\n",
    "        success_rates_smart.append(success)\n",
    "\n",
    "        counter += 1\n",
    "        print(\"Percentage: \", counter / (2 * len(mirrored_circuits) * len(backends)))\n",
    "\n",
    "    # Store results\n",
    "    results_default[backend_name] = success_rates_def\n",
    "    results_smart[backend_name] = success_rates_smart"
   ]
  },
  {
   "cell_type": "markdown",
   "id": "a6e47872",
   "metadata": {},
   "source": [
    "## Step 4: Post-Process"
   ]
  },
  {
   "cell_type": "markdown",
   "id": "12726d99",
   "metadata": {},
   "source": [
    "In This final part we'll post-process the results. Meaning drawing diagramms. First we prepare and sort the data neatly using panda."
   ]
  },
  {
   "cell_type": "code",
   "execution_count": null,
   "id": "341fe1c0",
   "metadata": {},
   "outputs": [
    {
     "ename": "NameError",
     "evalue": "name 'backends' is not defined",
     "output_type": "error",
     "traceback": [
      "\u001b[31m---------------------------------------------------------------------------\u001b[39m",
      "\u001b[31mNameError\u001b[39m                                 Traceback (most recent call last)",
      "\u001b[36mCell\u001b[39m\u001b[36m \u001b[39m\u001b[32mIn[6]\u001b[39m\u001b[32m, line 6\u001b[39m\n\u001b[32m      2\u001b[39m \u001b[38;5;28;01mimport\u001b[39;00m\u001b[38;5;250m \u001b[39m\u001b[34;01mpandas\u001b[39;00m\u001b[38;5;250m \u001b[39m\u001b[38;5;28;01mas\u001b[39;00m\u001b[38;5;250m \u001b[39m\u001b[34;01mpd\u001b[39;00m\n\u001b[32m      4\u001b[39m data = []\n\u001b[32m----> \u001b[39m\u001b[32m6\u001b[39m \u001b[38;5;28;01mfor\u001b[39;00m backend_name \u001b[38;5;129;01min\u001b[39;00m \u001b[43mbackends\u001b[49m.keys():\n\u001b[32m      7\u001b[39m     \u001b[38;5;28;01mfor\u001b[39;00m (n, d, qc_mirrored), success \u001b[38;5;129;01min\u001b[39;00m \u001b[38;5;28mzip\u001b[39m(default_circuits[backend_name], results_default[backend_name]):\n\u001b[32m      8\u001b[39m         data.append({\n\u001b[32m      9\u001b[39m             \u001b[33m\"\u001b[39m\u001b[33mBackend\u001b[39m\u001b[33m\"\u001b[39m: backend_name,\n\u001b[32m     10\u001b[39m             \u001b[33m\"\u001b[39m\u001b[33mMethod\u001b[39m\u001b[33m\"\u001b[39m: \u001b[33m\"\u001b[39m\u001b[33mDefault\u001b[39m\u001b[33m\"\u001b[39m,\n\u001b[32m   (...)\u001b[39m\u001b[32m     13\u001b[39m             \u001b[33m\"\u001b[39m\u001b[33mSuccessRate\u001b[39m\u001b[33m\"\u001b[39m: success\n\u001b[32m     14\u001b[39m         })\n",
      "\u001b[31mNameError\u001b[39m: name 'backends' is not defined"
     ]
    }
   ],
   "source": [
    "# DataFrame with Backend, Method, Qubits, Depth, SuccessRate\n",
    "import pandas as pd\n",
    "\n",
    "data = []\n",
    "\n",
    "for backend_name in backends.keys():\n",
    "    for (n, d, qc_mirrored), success in zip(default_circuits[backend_name], results_default[backend_name]):\n",
    "        data.append({\n",
    "            \"Backend\": backend_name,\n",
    "            \"Method\": \"Default\",\n",
    "            \"Qubits\": n,\n",
    "            \"Depth\": d,\n",
    "            \"SuccessRate\": success\n",
    "        })\n",
    "    for (n, d, qc_mirrored), success in zip(smart_circuits[backend_name], results_smart[backend_name]):\n",
    "        data.append({\n",
    "            \"Backend\": backend_name,\n",
    "            \"Method\": \"Smart\",\n",
    "            \"Qubits\": n,\n",
    "            \"Depth\": d,\n",
    "            \"SuccessRate\": success\n",
    "        })\n",
    "\n",
    "df = pd.DataFrame(data)\n"
   ]
  },
  {
   "cell_type": "markdown",
   "id": "c133208e",
   "metadata": {},
   "source": [
    "### Backend"
   ]
  },
  {
   "cell_type": "markdown",
   "id": "d7116ac4",
   "metadata": {},
   "source": [
    "First we part look at the data for the different Backends. \n",
    "Success Rate Distribution"
   ]
  },
  {
   "cell_type": "code",
   "execution_count": null,
   "id": "90360cc4",
   "metadata": {},
   "outputs": [
    {
     "data": {
      "image/png": "[encoded data removed]",
      "text/plain": [
       "<Figure size 1200x600 with 1 Axes>"
      ]
     },
     "metadata": {},
     "output_type": "display_data"
    }
   ],
   "source": [
    "import matplotlib.pyplot as plt\n",
    "import seaborn as sns\n",
    "\n",
    "plt.figure(figsize=(12, 6))\n",
    "sns.boxplot(x=\"Backend\", y=\"SuccessRate\", hue=\"Method\", data=df)\n",
    "plt.title(\"Success Rate Distribution by Backend and Method\")\n",
    "plt.ylim(0, 1)\n",
    "plt.grid(True)\n",
    "plt.show()"
   ]
  },
  {
   "cell_type": "markdown",
   "id": "53836982",
   "metadata": {},
   "source": [
    "Average Performance for each method and backend."
   ]
  },
  {
   "cell_type": "code",
   "execution_count": null,
   "id": "4a44e244",
   "metadata": {},
   "outputs": [
    {
     "data": {
      "image/png": "[encoded data removed]",
      "text/plain": [
       "<Figure size 1000x600 with 1 Axes>"
      ]
     },
     "metadata": {},
     "output_type": "display_data"
    }
   ],
   "source": [
    "mean_df = df.groupby([\"Backend\", \"Method\"]).mean().reset_index()\n",
    "\n",
    "plt.figure(figsize=(10, 6))\n",
    "sns.barplot(x=\"Backend\", y=\"SuccessRate\", hue=\"Method\", data=mean_df)\n",
    "plt.title(\"Average Success Rate by Backend and Method\")\n",
    "plt.ylim(0, 1)\n",
    "plt.grid(True)\n",
    "plt.show()"
   ]
  },
  {
   "cell_type": "markdown",
   "id": "73b2d720",
   "metadata": {},
   "source": [
    "### Qubit"
   ]
  },
  {
   "cell_type": "markdown",
   "id": "e19bc052",
   "metadata": {},
   "source": [
    "Now we look at success rate with number of qubits for the different methods."
   ]
  },
  {
   "cell_type": "code",
   "execution_count": null,
   "id": "974a05cd",
   "metadata": {},
   "outputs": [
    {
     "data": {
      "image/png": "[encoded data removed]",
      "text/plain": [
       "<Figure size 1400x600 with 1 Axes>"
      ]
     },
     "metadata": {},
     "output_type": "display_data"
    }
   ],
   "source": [
    "import matplotlib.pyplot as plt\n",
    "import seaborn as sns\n",
    "\n",
    "plt.figure(figsize=(14, 6))\n",
    "sns.boxplot(x=\"Qubits\", y=\"SuccessRate\", hue=\"Method\", data=df)\n",
    "plt.title(\"Success Rate Distribution by Qubit Count and Method\")\n",
    "plt.ylim(0, 1)\n",
    "plt.grid(True)\n",
    "plt.show()"
   ]
  },
  {
   "cell_type": "markdown",
   "id": "a696f4be",
   "metadata": {},
   "source": [
    "Average by Qubit count for the differnt methods."
   ]
  },
  {
   "cell_type": "code",
   "execution_count": null,
   "id": "f68fcb8c",
   "metadata": {},
   "outputs": [
    {
     "data": {
      "image/png": "[encoded data removed]",
      "text/plain": [
       "<Figure size 1400x600 with 1 Axes>"
      ]
     },
     "metadata": {},
     "output_type": "display_data"
    }
   ],
   "source": [
    "mean_df_qubits = df.groupby([\"Qubits\", \"Method\"])[\"SuccessRate\"].mean().reset_index()\n",
    "\n",
    "plt.figure(figsize=(14, 6))\n",
    "sns.barplot(x=\"Qubits\", y=\"SuccessRate\", hue=\"Method\", data=mean_df_qubits)\n",
    "plt.title(\"Average Success Rate by Qubit Count and Method\")\n",
    "plt.ylim(0, 1)\n",
    "plt.grid(True)\n",
    "plt.show()"
   ]
  },
  {
   "cell_type": "markdown",
   "id": "5b3404a1",
   "metadata": {},
   "source": [
    "### Circuit depth"
   ]
  },
  {
   "cell_type": "markdown",
   "id": "b459caf0",
   "metadata": {},
   "source": [
    "Success rate for depth for different methods"
   ]
  },
  {
   "cell_type": "code",
   "execution_count": null,
   "id": "bd918049",
   "metadata": {},
   "outputs": [
    {
     "data": {
      "image/png": "[encoded data removed]",
      "text/plain": [
       "<Figure size 1400x600 with 1 Axes>"
      ]
     },
     "metadata": {},
     "output_type": "display_data"
    }
   ],
   "source": [
    "plt.figure(figsize=(14, 6))\n",
    "sns.boxplot(x=\"Depth\", y=\"SuccessRate\", hue=\"Method\", data=df)\n",
    "plt.title(\"Success Rate Distribution by Circuit Depth and Method\")\n",
    "plt.ylim(0, 1)\n",
    "plt.grid(True)\n",
    "plt.show()"
   ]
  },
  {
   "cell_type": "markdown",
   "id": "dc4793a7",
   "metadata": {},
   "source": [
    "Average for depth for different methods"
   ]
  },
  {
   "cell_type": "code",
   "execution_count": null,
   "id": "02c6d9b7",
   "metadata": {},
   "outputs": [
    {
     "data": {
      "image/png": "[encoded data removed]",
      "text/plain": [
       "<Figure size 1400x600 with 1 Axes>"
      ]
     },
     "metadata": {},
     "output_type": "display_data"
    }
   ],
   "source": [
    "mean_df_depth = df.groupby([\"Depth\", \"Method\"])[\"SuccessRate\"].mean().reset_index()\n",
    "\n",
    "plt.figure(figsize=(14, 6))\n",
    "sns.barplot(x=\"Depth\", y=\"SuccessRate\", hue=\"Method\", data=mean_df_depth)\n",
    "plt.title(\"Average Success Rate by Circuit Depth and Method\")\n",
    "plt.ylim(0, 1)\n",
    "plt.grid(True)\n",
    "plt.show()\n"
   ]
  },
  {
   "cell_type": "markdown",
   "id": "e8a6ad4c",
   "metadata": {},
   "source": [
    "### Realtive Infidelity Reduction\n"
   ]
  },
  {
   "cell_type": "code",
   "execution_count": null,
   "id": "38a30f30",
   "metadata": {},
   "outputs": [
    {
     "ename": "NameError",
     "evalue": "name 'df' is not defined",
     "output_type": "error",
     "traceback": [
      "\u001b[31m---------------------------------------------------------------------------\u001b[39m",
      "\u001b[31mNameError\u001b[39m                                 Traceback (most recent call last)",
      "\u001b[36mCell\u001b[39m\u001b[36m \u001b[39m\u001b[32mIn[4]\u001b[39m\u001b[32m, line 2\u001b[39m\n\u001b[32m      1\u001b[39m \u001b[38;5;66;03m# Pivot your existing df\u001b[39;00m\n\u001b[32m----> \u001b[39m\u001b[32m2\u001b[39m pivoted = \u001b[43mdf\u001b[49m.pivot_table(index=[\u001b[33m\"\u001b[39m\u001b[33mBackend\u001b[39m\u001b[33m\"\u001b[39m, \u001b[33m\"\u001b[39m\u001b[33mQubits\u001b[39m\u001b[33m\"\u001b[39m, \u001b[33m\"\u001b[39m\u001b[33mDepth\u001b[39m\u001b[33m\"\u001b[39m], columns=\u001b[33m\"\u001b[39m\u001b[33mMethod\u001b[39m\u001b[33m\"\u001b[39m, values=\u001b[33m\"\u001b[39m\u001b[33mSuccessRate\u001b[39m\u001b[33m\"\u001b[39m).reset_index()\n\u001b[32m      4\u001b[39m \u001b[38;5;66;03m# Calculate Relative Infidelity Reduction\u001b[39;00m\n\u001b[32m      5\u001b[39m pivoted[\u001b[33m\"\u001b[39m\u001b[33mRelInfReduction\u001b[39m\u001b[33m\"\u001b[39m] = (\u001b[32m1\u001b[39m - pivoted[\u001b[33m\"\u001b[39m\u001b[33mSmart\u001b[39m\u001b[33m\"\u001b[39m]) / (\u001b[32m1\u001b[39m - pivoted[\u001b[33m\"\u001b[39m\u001b[33mDefault\u001b[39m\u001b[33m\"\u001b[39m])\n",
      "\u001b[31mNameError\u001b[39m: name 'df' is not defined"
     ]
    }
   ],
   "source": [
    "# Pivot your existing df\n",
    "pivoted = df.pivot_table(index=[\"Backend\", \"Qubits\", \"Depth\"], columns=\"Method\", values=\"SuccessRate\").reset_index()\n",
    "\n",
    "# Calculate Relative Infidelity Reduction\n",
    "pivoted[\"RelInfReduction\"] = (1 - pivoted[\"Smart\"]) / (1 - pivoted[\"Default\"])\n"
   ]
  },
  {
   "cell_type": "code",
   "execution_count": null,
   "id": "828d3043",
   "metadata": {},
   "outputs": [
    {
     "ename": "NameError",
     "evalue": "name 'pivoted' is not defined",
     "output_type": "error",
     "traceback": [
      "\u001b[31m---------------------------------------------------------------------------\u001b[39m",
      "\u001b[31mNameError\u001b[39m                                 Traceback (most recent call last)",
      "\u001b[36mCell\u001b[39m\u001b[36m \u001b[39m\u001b[32mIn[2]\u001b[39m\u001b[32m, line 6\u001b[39m\n\u001b[32m      4\u001b[39m \u001b[38;5;66;03m# --- 1. Histogram of Relative Infidelity Reduction ---\u001b[39;00m\n\u001b[32m      5\u001b[39m plt.figure(figsize=(\u001b[32m10\u001b[39m, \u001b[32m6\u001b[39m))\n\u001b[32m----> \u001b[39m\u001b[32m6\u001b[39m plt.hist(\u001b[43mpivoted\u001b[49m[\u001b[33m\"\u001b[39m\u001b[33mRelInfReduction\u001b[39m\u001b[33m\"\u001b[39m], bins=\u001b[32m30\u001b[39m, color=\u001b[33m'\u001b[39m\u001b[33mskyblue\u001b[39m\u001b[33m'\u001b[39m, edgecolor=\u001b[33m'\u001b[39m\u001b[33mblack\u001b[39m\u001b[33m'\u001b[39m)\n\u001b[32m      7\u001b[39m plt.title(\u001b[33m\"\u001b[39m\u001b[33mHistogram of Relative Infidelity Reduction\u001b[39m\u001b[33m\"\u001b[39m)\n\u001b[32m      8\u001b[39m plt.xlabel(\u001b[33m\"\u001b[39m\u001b[33mRelative Infidelity Reduction (Smart / Default)\u001b[39m\u001b[33m\"\u001b[39m)\n",
      "\u001b[31mNameError\u001b[39m: name 'pivoted' is not defined"
     ]
    },
    {
     "data": {
      "text/plain": [
       "<Figure size 1000x600 with 0 Axes>"
      ]
     },
     "metadata": {},
     "output_type": "display_data"
    }
   ],
   "source": [
    "import matplotlib.pyplot as plt\n",
    "import seaborn as sns\n",
    "\n",
    "# --- 1. Histogram of Relative Infidelity Reduction ---\n",
    "plt.figure(figsize=(10, 6))\n",
    "plt.hist(pivoted[\"RelInfReduction\"], bins=30, color='skyblue', edgecolor='black')\n",
    "plt.title(\"Histogram of Relative Infidelity Reduction\")\n",
    "plt.xlabel(\"Relative Infidelity Reduction (Smart / Default)\")\n",
    "plt.ylabel(\"Number of Circuits\")\n",
    "plt.axvline(x=1.0, color='red', linestyle='--', label='No Improvement')\n",
    "plt.legend()\n",
    "plt.grid(True)\n",
    "plt.show()\n",
    "\n",
    "# --- 2. Boxplot by Backend ---\n",
    "plt.figure(figsize=(12, 6))\n",
    "sns.boxplot(x=\"Backend\", y=\"RelInfReduction\", data=pivoted)\n",
    "plt.axhline(y=1.0, color='red', linestyle='--')\n",
    "plt.title(\"Relative Infidelity Reduction by Backend\")\n",
    "plt.ylabel(\"Relative Infidelity Reduction\")\n",
    "plt.grid(True)\n",
    "plt.show()\n",
    "\n",
    "# --- 3. Boxplot by Qubits ---\n",
    "plt.figure(figsize=(12, 6))\n",
    "sns.boxplot(x=\"Qubits\", y=\"RelInfReduction\", data=pivoted)\n",
    "plt.axhline(y=1.0, color='red', linestyle='--')\n",
    "plt.title(\"Relative Infidelity Reduction by Qubit Count\")\n",
    "plt.ylabel(\"Relative Infidelity Reduction\")\n",
    "plt.grid(True)\n",
    "plt.show()\n",
    "\n",
    "# --- 4. Boxplot by Depth ---\n",
    "plt.figure(figsize=(12, 6))\n",
    "sns.boxplot(x=\"Depth\", y=\"RelInfReduction\", data=pivoted)\n",
    "plt.axhline(y=1.0, color='red', linestyle='--')\n",
    "plt.title(\"Relative Infidelity Reduction by Circuit Depth\")\n",
    "plt.ylabel(\"Relative Infidelity Reduction\")\n",
    "plt.grid(True)\n",
    "plt.show()"
   ]
  },
  {
   "cell_type": "code",
   "execution_count": null,
   "id": "8820ad6c",
   "metadata": {},
   "outputs": [
    {
     "ename": "NameError",
     "evalue": "name 'pivoted' is not defined",
     "output_type": "error",
     "traceback": [
      "\u001b[31m---------------------------------------------------------------------------\u001b[39m",
      "\u001b[31mNameError\u001b[39m                                 Traceback (most recent call last)",
      "\u001b[36mCell\u001b[39m\u001b[36m \u001b[39m\u001b[32mIn[3]\u001b[39m\u001b[32m, line 2\u001b[39m\n\u001b[32m      1\u001b[39m \u001b[38;5;66;03m# --- Mean per Backend ---\u001b[39;00m\n\u001b[32m----> \u001b[39m\u001b[32m2\u001b[39m mean_backend = \u001b[43mpivoted\u001b[49m.groupby(\u001b[33m\"\u001b[39m\u001b[33mBackend\u001b[39m\u001b[33m\"\u001b[39m)[\u001b[33m\"\u001b[39m\u001b[33mRelInfReduction\u001b[39m\u001b[33m\"\u001b[39m].mean().reset_index()\n\u001b[32m      4\u001b[39m plt.figure(figsize=(\u001b[32m8\u001b[39m, \u001b[32m5\u001b[39m))\n\u001b[32m      5\u001b[39m plt.bar(mean_backend[\u001b[33m\"\u001b[39m\u001b[33mBackend\u001b[39m\u001b[33m\"\u001b[39m], mean_backend[\u001b[33m\"\u001b[39m\u001b[33mRelInfReduction\u001b[39m\u001b[33m\"\u001b[39m], color=\u001b[33m'\u001b[39m\u001b[33mlightgreen\u001b[39m\u001b[33m'\u001b[39m, edgecolor=\u001b[33m'\u001b[39m\u001b[33mblack\u001b[39m\u001b[33m'\u001b[39m)\n",
      "\u001b[31mNameError\u001b[39m: name 'pivoted' is not defined"
     ]
    }
   ],
   "source": [
    "# --- Mean per Backend ---\n",
    "mean_backend = pivoted.groupby(\"Backend\")[\"RelInfReduction\"].mean().reset_index()\n",
    "\n",
    "plt.figure(figsize=(8, 5))\n",
    "plt.bar(mean_backend[\"Backend\"], mean_backend[\"RelInfReduction\"], color='lightgreen', edgecolor='black')\n",
    "plt.axhline(y=1.0, color='red', linestyle='--')\n",
    "plt.title(\"Mean Relative Infidelity Reduction by Backend\")\n",
    "plt.ylabel(\"Mean Relative Infidelity Reduction\")\n",
    "plt.grid(True)\n",
    "plt.show()\n",
    "\n",
    "# --- Mean per Qubits ---\n",
    "mean_qubits = pivoted.groupby(\"Qubits\")[\"RelInfReduction\"].mean().reset_index()\n",
    "\n",
    "plt.figure(figsize=(8, 5))\n",
    "plt.bar(mean_qubits[\"Qubits\"].astype(str), mean_qubits[\"RelInfReduction\"], color='lightcoral', edgecolor='black')\n",
    "plt.axhline(y=1.0, color='red', linestyle='--')\n",
    "plt.title(\"Mean Relative Infidelity Reduction by Qubit Count\")\n",
    "plt.ylabel(\"Mean Relative Infidelity Reduction\")\n",
    "plt.grid(True)\n",
    "plt.show()\n",
    "\n",
    "print(mean_qubits[\"RelInfReduction\"])\n",
    "\n",
    "# --- Mean per Depth ---\n",
    "mean_depth = pivoted.groupby(\"Depth\")[\"RelInfReduction\"].mean().reset_index()\n",
    "\n",
    "plt.figure(figsize=(8, 5))\n",
    "plt.bar(mean_depth[\"Depth\"].astype(str), mean_depth[\"RelInfReduction\"], color='lightblue', edgecolor='black')\n",
    "plt.axhline(y=1.0, color='red', linestyle='--')\n",
    "plt.title(\"Mean Relative Infidelity Reduction by Circuit Depth\")\n",
    "plt.ylabel(\"Mean Relative Infidelity Reduction\")\n",
    "plt.grid(True)\n",
    "plt.show()"
   ]
  }
 ],
 "metadata": {
  "kernelspec": {
   "display_name": "qiskit-env",
   "language": "python",
   "name": "python3"
  },
  "language_info": {
   "codemirror_mode": {
    "name": "ipython",
    "version": 3
   },
   "file_extension": ".py",
   "mimetype": "text/x-python",
   "name": "python",
   "nbconvert_exporter": "python",
   "pygments_lexer": "ipython3",
   "version": "3.11.11"
  }
 },
 "nbformat": 4,
 "nbformat_minor": 5
}
